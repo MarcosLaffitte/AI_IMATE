{
 "cells": [
  {
   "cell_type": "markdown",
   "metadata": {},
   "source": [
    "- By: @MarcosLaffitte\n",
    "\n",
    "- Proj1: Boston House Dataset Analysis\n",
    "http://www.cs.toronto.edu/~delve/data/boston/bostonDetail.html\n",
    "\n",
    "- Masters in Mathematics\n",
    "\n",
    "- UNAM-IMATE, Juriquilla, Qro, Mex \n",
    "\n",
    "- Course on Artificial Inteligence\n",
    "\n",
    "- Prof: Esteba Hernandez Vargas, PhD\n",
    "\n",
    "- Description: predict price of houses in data set, using a number of variables determined by the abs value for pearson correlation coef give by the user (default 0.7).\n",
    "               "
   ]
  },
  {
   "cell_type": "markdown",
   "metadata": {},
   "source": [
    "## Dependencies info"
   ]
  },
  {
   "cell_type": "markdown",
   "metadata": {},
   "source": [
    "> scipy\n",
    "  Version: 1.1.0\n",
    "  Summary: SciPy: Scientific Library for Python\n",
    "  Home-page: https://www.scipy.org\n",
    "\n",
    "> seaborn\n",
    "  Version: 0.9.0\n",
    "  Summary: seaborn: statistical data visualization\n",
    "  Home-page: https://seaborn.pydata.org\n",
    "\n",
    "> numpy\n",
    "  Version: 1.17.0\n",
    "  Summary: NumPy is the fundamental package for array computing with Python.\n",
    "  Home-page: https://www.numpy.org\n",
    "\n",
    "> pandas\n",
    "  Version: 0.25.1\n",
    "  Summary: Powerful data structures for data analysis, time series, and statistics\n",
    "  Home-page: http://pandas.pydata.org\n",
    "\n",
    "> matplotlib\n",
    "  Version: 3.0.2\n",
    "  Summary: Python plotting package\n",
    "  Home-page: http://matplotlib.org\n",
    "\n",
    "> scikit-learn\n",
    "  Version: 0.20.0\n",
    "  Summary: A set of python modules for machine learning and data mining\n",
    "  Home-page: http://scikit-learn.org"
   ]
  },
  {
   "cell_type": "markdown",
   "metadata": {},
   "source": [
    "## Dependencies"
   ]
  },
  {
   "cell_type": "code",
   "execution_count": null,
   "metadata": {},
   "outputs": [],
   "source": [
    "# already in python\n",
    "import math\n",
    "import warnings\n",
    "from copy import deepcopy\n",
    "\n",
    "# not in python\n",
    "from scipy import stats\n",
    "import seaborn as sns\n",
    "import numpy as np\n",
    "import pandas as pd \n",
    "import matplotlib.pyplot as plt\n",
    "from sklearn.linear_model import Lasso\n",
    "from sklearn.linear_model import LinearRegression\n",
    "from sklearn.datasets import load_boston\n",
    "from sklearn.model_selection import train_test_split\n",
    "from sklearn.metrics import mean_squared_error\n",
    "\n",
    "# some weird stuff\n",
    "%matplotlib inline\n",
    "sns.set(rc={\"figure.figsize\":(11.7,8.27)})\n",
    "warnings.simplefilter(\"ignore\")\n",
    "plt.switch_backend(\"agg\")"
   ]
  },
  {
   "cell_type": "markdown",
   "metadata": {},
   "source": [
    "## Variables"
   ]
  },
  {
   "cell_type": "code",
   "execution_count": null,
   "metadata": {},
   "outputs": [],
   "source": [
    "# input\n",
    "corrCoefAbs = 0.7\n",
    "\n",
    "# data\n",
    "theData = None\n",
    "bestVariables = None\n",
    "models = []\n",
    "RSSvTrainTot = dict()\n",
    "RSSvTestTot = dict()\n",
    "AICvTrainTot = dict()\n",
    "AICvTestTot = dict()\n",
    "rssTr = 0\n",
    "rssTe = 0\n",
    "aicTr = 0\n",
    "aicTe = 0\n",
    "fitCoefs = []\n",
    "modelResults = ()\n",
    "modelEvaluation = []\n",
    "theBestModelEver = ()\n",
    "\n",
    "# control\n",
    "corrCoefAbs = abs(corrCoefAbs)\n",
    "if(corrCoefAbs > 1):\n",
    "    corrCoefAbs = 0.7\n",
    "\n",
    "# constant\n",
    "myTarget = \"MEDV\"\n",
    "trainSetPercent = (0.60, 0.65, 0.70, 0.75, 0.80)"
   ]
  },
  {
   "cell_type": "markdown",
   "metadata": {},
   "source": [
    "## Functions"
   ]
  },
  {
   "cell_type": "code",
   "execution_count": null,
   "metadata": {},
   "outputs": [],
   "source": [
    "# function: get data from scikit and append target MEDV\n",
    "def getData():\n",
    "    # local variables\n",
    "    dataSet = None\n",
    "    # get dataset\n",
    "    dataSet = load_boston()\n",
    "    dataSetDF = pd.DataFrame(dataSet.data, columns = dataSet.feature_names)\n",
    "    dataSetDF[\"MEDV\"] = dataSet.target\n",
    "    # end of function\n",
    "    return(dataSetDF)"
   ]
  },
  {
   "cell_type": "code",
   "execution_count": null,
   "metadata": {},
   "outputs": [],
   "source": [
    "# function: isnull and visual of data rows\n",
    "def makeVisualDataRows(someDF):\n",
    "    # local variables\n",
    "    headNum = 5\n",
    "    nullArr = None\n",
    "    headArr = None\n",
    "    # call for isnull info\n",
    "    nullArr = someDF.isnull().sum()\n",
    "    print(\"\\nCall for isnull ...\\n\")\n",
    "    print(nullArr)\n",
    "    # call for head info\n",
    "    headArr = someDF.head(headNum)\n",
    "    print(\"\\nCall for head info ...\\n\")\n",
    "    print(headArr)\n",
    "    # end of function"
   ]
  },
  {
   "cell_type": "code",
   "execution_count": null,
   "metadata": {},
   "outputs": [],
   "source": [
    "# function: visual of  MEDV distrubition\n",
    "def plotDistributionTarget(theDF, theTarget, theLabel):\n",
    "    # local variables\n",
    "    binsNum = 30\n",
    "    avTarget = 0\n",
    "    stdTarget = 0\n",
    "    # get average target\n",
    "    avTarget = round(theDF[theTarget].mean(), 2)\n",
    "    # get stddev of target\n",
    "    stdTarget = round(theDF[theTarget].std(), 2)\n",
    "    # make plot\n",
    "    plt.figure(figsize = (10, 10))\n",
    "    sns.distplot(theDF[theTarget], bins = binsNum)\n",
    "    plt.title(\"Mean: \" + str(avTarget) + \"\\n\"\n",
    "              \"StdDev: \" + str(stdTarget))\n",
    "    plt.axvline(x = avTarget, color = \"k\", linestyle = \"--\", linewidth = 1.7)\n",
    "    plt.xlabel(theLabel)\n",
    "    #plt.savefig(theTarget + \"_distribution.pdf\", dpi = 300)\n",
    "    plt.show()\n",
    "    plt.close()\n",
    "    # end of function"
   ]
  },
  {
   "cell_type": "code",
   "execution_count": null,
   "metadata": {},
   "outputs": [],
   "source": [
    "# function: visual of correlation matrices\n",
    "def plotCorrelationMatrices(theDF, theTarget, theMinCorrAbs):\n",
    "    # local variables\n",
    "    someCopyDF = deepcopy(theDF)\n",
    "    corrVec = None\n",
    "    corrOrd = None\n",
    "    compCorrMat = None\n",
    "    reduCorrMat = None\n",
    "    chosenOnes = None\n",
    "    # get correlation coefficient with target and reorder columns\n",
    "    corrVec = abs(someCopyDF.corr().round(2)[theTarget]).sort_values()\n",
    "    corrOrd = corrVec.index\n",
    "    someCopyDF = someCopyDF[corrOrd]\n",
    "    chosenOnes = (corrVec[corrVec >= theMinCorrAbs]).drop([theTarget]).sort_values(ascending = False).index.tolist()\n",
    "    # get complete correlation matrix\n",
    "    compCorrMat = someCopyDF.corr().round(2)\n",
    "    plt.figure(figsize = (10, 10))\n",
    "    sns.heatmap(data = compCorrMat, annot = True, cmap = \"RdYlBu_r\", linewidths = 0.5)\n",
    "    #plt.savefig(theTarget + \"_completeCorrMat.pdf\", dpi = 300)\n",
    "    plt.show()\n",
    "    plt.close()\n",
    "    # get reduced correlation matrix\n",
    "    reduCorrMat = someCopyDF.corr().round(2)\n",
    "    reduCorrMat = reduCorrMat.mask(abs(reduCorrMat) < theMinCorrAbs)\n",
    "    plt.figure(figsize = (10, 10))\n",
    "    sns.heatmap(data = reduCorrMat, annot = True, cmap = \"RdYlBu_r\", linewidths = 0.5)\n",
    "    #plt.savefig(theTarget + \"_reducedCorrMat.pdf\", dpi = 300)\n",
    "    plt.show()\n",
    "    plt.close()\n",
    "    # end of function\n",
    "    return(chosenOnes)"
   ]
  },
  {
   "cell_type": "code",
   "execution_count": null,
   "metadata": {},
   "outputs": [],
   "source": [
    "# function: determine best correlation models\n",
    "def determineModelTuples(theBestVaribales):\n",
    "    # local variables\n",
    "    i = 0\n",
    "    modelsNum = 0\n",
    "    theModels = dict()\n",
    "    # create models\n",
    "    print(\"\\nBuilding models ...\\n\")\n",
    "    modelsNum = len(theBestVaribales)\n",
    "    for i in range(modelsNum):\n",
    "        for j in range(i, modelsNum):\n",
    "            if(j in list(theModels.keys())):\n",
    "                theModels[j].append(theBestVaribales[i])\n",
    "            else:\n",
    "                theModels[j] = [theBestVaribales[i]]\n",
    "        print(theModels)\n",
    "    # end of function\n",
    "    return(theModels)"
   ]
  },
  {
   "cell_type": "code",
   "execution_count": null,
   "metadata": {},
   "outputs": [],
   "source": [
    "# function: analyze model\n",
    "def analyzeModel(theModel, theTrainSize, theDF, theTarget):\n",
    "    # local variables\n",
    "    theDataCols = []\n",
    "    X = None\n",
    "    Y = None\n",
    "    xTrain = None\n",
    "    xTest = None\n",
    "    yTrain = None\n",
    "    yTest = None\n",
    "    linModel = None\n",
    "    yPredict = None\n",
    "    RSSvTrain = 0\n",
    "    RSSvTest = 0\n",
    "    AICvTrain = 0\n",
    "    AICvTest = 0\n",
    "    theCoefs = 0\n",
    "    # get train and test sets\n",
    "    X = pd.DataFrame(np.c_[theDF[theModel]], columns = theModel)\n",
    "    Y = theDF[theTarget]\n",
    "    xTrain, xTest, yTrain, yTest = train_test_split(X, Y, test_size = (1 - theTrainSize), random_state = 5)\n",
    "    # train model\n",
    "    linModel = LinearRegression()\n",
    "    linModel.fit(xTrain, yTrain)\n",
    "    theCoefs = list(linModel.coef_)\n",
    "    # evaluate model\n",
    "    yLeanrt = linModel.predict(xTrain)\n",
    "    yPredict = linModel.predict(xTest)\n",
    "    # get RSSv\n",
    "    RSSvTrain = (1/2) * np.sum((yTrain - yLeanrt)**2)\n",
    "    RSSvTest = (1/2) * np.sum((yTest - yPredict)**2)\n",
    "    # get AICv\n",
    "    AICvTrain = len(yTrain) * math.log10(RSSvTrain / len(yTrain)) + 2 * len(theModel) * len(yTrain) / (len(yTrain) - len(theModel) - 1)\n",
    "    AICvTest = len(yTest) * math.log10(RSSvTest / len(yTest)) + 2 * len(theModel) * len(yTest) / (len(yTest) - len(theModel) - 1)\n",
    "    # end of function\n",
    "    return(RSSvTrain, RSSvTest, AICvTrain, AICvTest, theCoefs)"
   ]
  },
  {
   "cell_type": "code",
   "execution_count": null,
   "metadata": {},
   "outputs": [],
   "source": [
    "# function: plot rss and aic lines for models\n",
    "def plotRSSandAIC(theBestModel, RSSvTrainInfo, RSSvTestInfo, AICvTrainInfo, AICvTestInfo, xValues):\n",
    "    # local variables\n",
    "    i = 0\n",
    "    everyModel = []\n",
    "    bestModelText = \"\"\n",
    "    colors = [\"tab:blue\", \"tab:orange\", \"tab:green\", \"tab:red\", \"tab:purple\",\n",
    "              \"tab:brown\", \"tab:pink\", \"tab:gray\", \"tab:olive\", \"tab:cyan\",\n",
    "              \"b\", \"g\", \"r\", \"c\", \"m\"]\n",
    "    # get all models\n",
    "    everyModel = list(RSSvTrainInfo.keys())\n",
    "    # build best model text\n",
    "    bestModelText = \"- Best model found to have:\" + \"\\n\"\n",
    "    bestModelText = bestModelText + \"* AIC test: \" + str(theBestModel[0]) + \"\\n\"\n",
    "    bestModelText = bestModelText + \"* Train Set %: \" + str(theBestModel[1] * 100) + \"\\n\"\n",
    "    bestModelText = bestModelText + \"* Variables: \" + \", \".join(theBestModel[2]) + \"\\n\"\n",
    "    bestModelText = bestModelText + \"* Coeficients: \" + \", \".join([str(a) for a in theBestModel[3]])\n",
    "    # print best model info\n",
    "    print(bestModelText)\n",
    "    # plot rss lines\n",
    "    plt.figure(figsize = (10, 10))\n",
    "    for i in range(len(everyModel)):\n",
    "        plt.plot(RSSvTrainInfo[everyModel[i]], color = colors[i], linestyle = \"--\", linewidth = 1.5, marker = \".\",\n",
    "        label = \", \".join(list(everyModel[i])) + \" - train\")\n",
    "    for i in range(len(everyModel)):\n",
    "        plt.plot(RSSvTestInfo[everyModel[i]], color = colors[i], linewidth = 2, marker = \"o\",\n",
    "                 label = \", \".join(list(everyModel[i])) + \" - test\")\n",
    "    plt.xticks(range(len(xValues)), [a*100 for a in xValues])\n",
    "    plt.title(bestModelText)\n",
    "    plt.ylabel(\"RSS\")\n",
    "    plt.xlabel(\"Training Set %\")\n",
    "    if(len(everyModel) < 5):\n",
    "        plt.legend()\n",
    "    #plt.savefig(\"RSS.pdf\", dpi = 300)\n",
    "    plt.show()\n",
    "    plt.close()\n",
    "    # plot rss lines\n",
    "    plt.figure(figsize = (10, 10))\n",
    "    for i in range(len(everyModel)):\n",
    "        plt.plot(AICvTrainInfo[everyModel[i]], color = colors[i], linestyle = \"--\", linewidth = 1.5, marker = \".\",\n",
    "        label = \", \".join(list(everyModel[i])) + \" - train\")\n",
    "    for i in range(len(everyModel)):\n",
    "        plt.plot(AICvTestInfo[everyModel[i]], color = colors[i], linewidth = 2, marker = \"o\",\n",
    "                 label = \", \".join(list(everyModel[i])) + \" - test\")\n",
    "    plt.xticks(range(len(xValues)), [a*100 for a in xValues])\n",
    "    plt.title(bestModelText)\n",
    "    plt.ylabel(\"AIC\")\n",
    "    plt.xlabel(\"Training Set %\")\n",
    "    if(len(everyModel) < 5):\n",
    "        plt.legend()\n",
    "    #plt.savefig(\"AIC.pdf\", dpi = 300)\n",
    "    plt.show()\n",
    "    plt.close()\n",
    "    # end of function"
   ]
  },
  {
   "cell_type": "code",
   "execution_count": null,
   "metadata": {},
   "outputs": [],
   "source": [
    "# function: plot results\n",
    "def plotScatters(myTarget, theVariables, theDF):\n",
    "    # local variables\n",
    "    i = 0\n",
    "    colors = [\"tab:blue\", \"tab:orange\", \"tab:green\", \"tab:red\", \"tab:purple\",\n",
    "              \"tab:brown\", \"tab:pink\", \"tab:gray\", \"tab:olive\", \"tab:cyan\",\n",
    "              \"b\", \"g\", \"r\", \"c\", \"m\"]\n",
    "    # scatters\n",
    "    for i in range(len(theVariables)):\n",
    "        plt.figure(figsize = (10, 10))\n",
    "        sns.scatterplot(x = theVariables[i], y = myTarget, data = theDF, color = colors[i])\n",
    "        plt.xlabel(theVariables[i])\n",
    "        plt.ylabel(myTarget)\n",
    "        plt.title(\"Scatter: \" + myTarget + \" vs \" + theVariables[i])\n",
    "        #plt.savefig(myTarget + \"_vs_\" + theVariables[i] + \".pdf\", dpi = 300)\n",
    "        plt.show()\n",
    "        plt.close()\n",
    "    # end of function"
   ]
  },
  {
   "cell_type": "markdown",
   "metadata": {},
   "source": [
    "## Main"
   ]
  },
  {
   "cell_type": "markdown",
   "metadata": {},
   "source": [
    "### I) get data from scikit"
   ]
  },
  {
   "cell_type": "code",
   "execution_count": null,
   "metadata": {},
   "outputs": [],
   "source": [
    "theData = getData()"
   ]
  },
  {
   "cell_type": "markdown",
   "metadata": {},
   "source": [
    "### II) isnull and rows check"
   ]
  },
  {
   "cell_type": "code",
   "execution_count": null,
   "metadata": {},
   "outputs": [],
   "source": [
    "makeVisualDataRows(theData)"
   ]
  },
  {
   "cell_type": "markdown",
   "metadata": {},
   "source": [
    "### III) MEDV distrubition"
   ]
  },
  {
   "cell_type": "code",
   "execution_count": null,
   "metadata": {},
   "outputs": [],
   "source": [
    "plotDistributionTarget(theData, myTarget, \"MEDV [ $1000's ]\")"
   ]
  },
  {
   "cell_type": "markdown",
   "metadata": {},
   "source": [
    "### IV) correlation matrices"
   ]
  },
  {
   "cell_type": "code",
   "execution_count": null,
   "metadata": {},
   "outputs": [],
   "source": [
    "bestVariables = plotCorrelationMatrices(theData, myTarget, corrCoefAbs)"
   ]
  },
  {
   "cell_type": "markdown",
   "metadata": {},
   "source": [
    "### V) determine increasing tupples of variables (models)"
   ]
  },
  {
   "cell_type": "code",
   "execution_count": null,
   "metadata": {},
   "outputs": [],
   "source": [
    "models = determineModelTuples(bestVariables)"
   ]
  },
  {
   "cell_type": "markdown",
   "metadata": {},
   "source": [
    "### VI) train and evaluate models"
   ]
  },
  {
   "cell_type": "code",
   "execution_count": null,
   "metadata": {},
   "outputs": [],
   "source": [
    "for i in range(len(list(models.keys()))):\n",
    "    RSSvTrainTot[tuple(models[i])] = []\n",
    "    RSSvTestTot[tuple(models[i])] = []\n",
    "    AICvTrainTot[tuple(models[i])] = []\n",
    "    AICvTestTot[tuple(models[i])] = []\n",
    "    for j in range(len(trainSetPercent)):\n",
    "        (rssTr, rssTe, aicTr, aicTe, fitCoefs) = analyzeModel(models[i], trainSetPercent[j], theData, myTarget)\n",
    "        RSSvTrainTot[tuple(models[i])].append(rssTr)\n",
    "        RSSvTestTot[tuple(models[i])].append(rssTe)\n",
    "        AICvTrainTot[tuple(models[i])].append(aicTr)\n",
    "        AICvTestTot[tuple(models[i])].append(aicTe)\n",
    "        modelResults = (aicTe, trainSetPercent[j], models[i], fitCoefs)\n",
    "        modelEvaluation.append(modelResults)"
   ]
  },
  {
   "cell_type": "markdown",
   "metadata": {},
   "source": [
    "### VII) get best error based on AICv for test"
   ]
  },
  {
   "cell_type": "code",
   "execution_count": null,
   "metadata": {},
   "outputs": [],
   "source": [
    "modelEvaluation.sort()\n",
    "theBestModelEver = modelEvaluation[0]"
   ]
  },
  {
   "cell_type": "markdown",
   "metadata": {},
   "source": [
    "### VIII) plot rss and aic lines of models and output best model"
   ]
  },
  {
   "cell_type": "code",
   "execution_count": null,
   "metadata": {},
   "outputs": [],
   "source": [
    "plotRSSandAIC(theBestModelEver, RSSvTrainTot, RSSvTestTot, AICvTrainTot, AICvTestTot, trainSetPercent)"
   ]
  },
  {
   "cell_type": "markdown",
   "metadata": {},
   "source": [
    "### XI) plot variables vs target scatter plot for best model's variables"
   ]
  },
  {
   "cell_type": "code",
   "execution_count": null,
   "metadata": {},
   "outputs": [],
   "source": [
    "plotScatters(myTarget, theBestModelEver[2], theData)"
   ]
  }
 ],
 "metadata": {
  "kernelspec": {
   "display_name": "Python 3",
   "language": "python",
   "name": "python3"
  },
  "language_info": {
   "codemirror_mode": {
    "name": "ipython",
    "version": 3
   },
   "file_extension": ".py",
   "mimetype": "text/x-python",
   "name": "python",
   "nbconvert_exporter": "python",
   "pygments_lexer": "ipython3",
   "version": "3.5.6"
  }
 },
 "nbformat": 4,
 "nbformat_minor": 2
}
